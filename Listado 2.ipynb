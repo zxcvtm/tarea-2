{
 "cells": [
  {
   "cell_type": "markdown",
   "id": "d988b496",
   "metadata": {},
   "source": [
    "# Ejercicio 1"
   ]
  },
  {
   "cell_type": "code",
   "execution_count": 9,
   "id": "7b6b572f",
   "metadata": {},
   "outputs": [],
   "source": [
    "def calcula_interseccion(lista1,lista2):\n",
    "    lista_comun = []\n",
    "    for e1 in lista1:\n",
    "        for e2 in lista2:\n",
    "            if(e1==e2):\n",
    "                lista_comun.append(e1)\n",
    "                break\n",
    "    return lista_comun"
   ]
  },
  {
   "cell_type": "code",
   "execution_count": 10,
   "id": "0e69d7fe",
   "metadata": {},
   "outputs": [],
   "source": [
    "# descomentar siguiente linea para generar archivo .py\n",
    "# %%writefile l2e1.py\n",
    "def calcula_interseccion_fixed(lista1,lista2):\n",
    "    lista2Copy = lista2.copy()\n",
    "    lista_comun = []\n",
    "    for e1 in lista1:\n",
    "        for e2 in lista2Copy:\n",
    "            if(e1==e2):\n",
    "                lista_comun.append(e1)\n",
    "                lista2Copy.remove(e2)\n",
    "                break\n",
    "    return lista_comun"
   ]
  },
  {
   "cell_type": "code",
   "execution_count": 11,
   "id": "de4079f4",
   "metadata": {},
   "outputs": [
    {
     "name": "stdout",
     "output_type": "stream",
     "text": [
      "with error: [1, 1, 2, 3, 4, 4]\n",
      "fixed     : [1, 1, 2, 3, 4, 4]\n",
      "-------------inverted-------------\n",
      "with error: [1, 1, 2, 3, 4, 4, 4]\n",
      "fixed     : [1, 1, 2, 3, 4, 4]\n"
     ]
    }
   ],
   "source": [
    "ar1 = [1,1,2,3,4,4]\n",
    "ar2 = [1,1,2,3,4,4,4]\n",
    "print(\"with error:\", calcula_interseccion(ar1, ar2))\n",
    "print(\"fixed     :\", calcula_interseccion_fixed(ar1, ar2))\n",
    "print(\"-------------inverted-------------\")\n",
    "print(\"with error:\", calcula_interseccion(ar2, ar1))\n",
    "print(\"fixed     :\", calcula_interseccion_fixed(ar2, ar1))"
   ]
  },
  {
   "cell_type": "markdown",
   "id": "dda7bc5f",
   "metadata": {},
   "source": [
    "# Ejercicio 2"
   ]
  },
  {
   "cell_type": "markdown",
   "id": "a1223d9d",
   "metadata": {},
   "source": [
    "## Costo Asintotitco"
   ]
  },
  {
   "cell_type": "markdown",
   "id": "cbc5988b",
   "metadata": {},
   "source": [
    "Suponiendo que el arreglo 1 es de largo n, el arreglo 2 es de largo m y acceder a cualquier posición del arreglo tiene un costo de 1\n",
    "Dado que se tiene que recorrer el arreglo 1 completo y por cada elemento se recorrer el arreglo 2 hasta encontrar una igualdad. En el peor de los casos puede no existir una intersección, el arreglo se recorre nxm veces.\n",
    "Por lo que la complejidad seria O(nxm)"
   ]
  },
  {
   "cell_type": "code",
   "execution_count": 12,
   "id": "b6114c27",
   "metadata": {},
   "outputs": [
    {
     "name": "stdout",
     "output_type": "stream",
     "text": [
      "\n",
      "def calcula_interseccion_fixed(lista1,lista2):\n",
      "    lista2Copy = lista2.copy()\n",
      "    lista_comun = []\n",
      "    for e1 in lista1:\n",
      "        for e2 in lista2Copy:\n",
      "            if(e1==e2):\n",
      "                lista_comun.append(e1)\n",
      "                lista2Copy.remove(e2)\n",
      "                break\n",
      "    return lista_comun\n",
      "\n",
      "Suponiendo que el arreglo 1 es de largo n, el arreglo 2 es de largo m y acceder a cualquier posición del arreglo tiene un costo de 1. Dado que se tiene que recorrer el arreglo 1 completo y por cada elemento se recorrer el arreglo 2 hasta encontrar una igualdad. En el peor de los casos puede no existir una intersección, el arreglo se recorre nxm veces. Por lo que la complejidad seria O(nxm)\n"
     ]
    }
   ],
   "source": [
    "# descomentar siguiente linea para generar archivo .py\n",
    "# %%writefile l2e2.py\n",
    "algorithm = \"\"\"\n",
    "def calcula_interseccion_fixed(lista1,lista2):\n",
    "    lista2Copy = lista2.copy()\n",
    "    lista_comun = []\n",
    "    for e1 in lista1:\n",
    "        for e2 in lista2Copy:\n",
    "            if(e1==e2):\n",
    "                lista_comun.append(e1)\n",
    "                lista2Copy.remove(e2)\n",
    "                break\n",
    "    return lista_comun\n",
    "\"\"\"\n",
    "print(algorithm)\n",
    "explanation = \"Suponiendo que el arreglo 1 es de largo n, el arreglo 2 es de largo m y acceder a cualquier posición del arreglo tiene un costo de 1. Dado que se tiene que recorrer el arreglo 1 completo y por cada elemento se recorrer el arreglo 2 hasta encontrar una igualdad. En el peor de los casos puede no existir una intersección, el arreglo se recorre nxm veces. Por lo que la complejidad seria O(nxm)\"\n",
    "print(explanation)"
   ]
  },
  {
   "cell_type": "markdown",
   "id": "57697f57",
   "metadata": {},
   "source": [
    "# Ejercicio 3"
   ]
  },
  {
   "cell_type": "code",
   "execution_count": 13,
   "id": "52065a61",
   "metadata": {},
   "outputs": [],
   "source": [
    "# descomentar siguiente linea para generar archivo .py\n",
    "# %%writefile l2e3.py\n",
    "\n",
    "def getKeyFromArrayValueDict(array):\n",
    "    keyFromArrayValueDict = {}\n",
    "    for index, value in enumerate(array):\n",
    "        keyFromArrayValueDict[value] = index\n",
    "    return keyFromArrayValueDict\n",
    "    "
   ]
  },
  {
   "cell_type": "code",
   "execution_count": 14,
   "id": "a78fc55c",
   "metadata": {},
   "outputs": [
    {
     "name": "stdout",
     "output_type": "stream",
     "text": [
      "{'Perro': 0, 'Gato': 1, 'Conejo': 2}\n"
     ]
    }
   ],
   "source": [
    "# Test getKeyFromArrayValueDict\n",
    "print(getKeyFromArrayValueDict( [\"Perro\", \"Gato\", \"Conejo\"]))"
   ]
  },
  {
   "cell_type": "markdown",
   "id": "fc04a4a6",
   "metadata": {},
   "source": [
    "# Ejercicio 4"
   ]
  },
  {
   "cell_type": "markdown",
   "id": "4ca1e466",
   "metadata": {},
   "source": [
    "por cada arreglo de largo n que recibe debe recorrerlo completo, si consideramas la acceder al elemento del arreglo y la inserción dentro del diccionario con un costo de 1, podemos decir que este algoritmo es O(n)"
   ]
  },
  {
   "cell_type": "code",
   "execution_count": 15,
   "id": "8c9de889",
   "metadata": {},
   "outputs": [
    {
     "name": "stdout",
     "output_type": "stream",
     "text": [
      "\n",
      "def getKeyFromArrayValueDict(array):\n",
      "    keyFromArrayValueDict = {}\n",
      "    for index, value in enumerate(array):\n",
      "        keyFromArrayValueDict[value] = index\n",
      "    return keyFromArrayValueDict\n",
      "\n",
      "por cada arreglo de largo n que recibe de entrada, debe recorrerlo completo. Si consideramos que acceder al elemento del arreglo y la inserción dentro del diccionario con un costo de 1, podemos decir que, este algoritmo es O(n)\n"
     ]
    }
   ],
   "source": [
    "# descomentar siguiente linea para generar archivo .py\n",
    "# %%writefile l2e4.py\n",
    "algorithm = \"\"\"\n",
    "def getKeyFromArrayValueDict(array):\n",
    "    keyFromArrayValueDict = {}\n",
    "    for index, value in enumerate(array):\n",
    "        keyFromArrayValueDict[value] = index\n",
    "    return keyFromArrayValueDict\n",
    "\"\"\"\n",
    "print(algorithm)\n",
    "explanation = \"por cada arreglo de largo n que recibe de entrada, debe recorrerlo completo. Si consideramos que acceder al elemento del arreglo y la inserción dentro del diccionario con un costo de 1, podemos decir que, este algoritmo es O(n)\"\n",
    "print(explanation)"
   ]
  },
  {
   "cell_type": "markdown",
   "id": "58435a5b",
   "metadata": {},
   "source": [
    "# Ejercicio 5"
   ]
  },
  {
   "cell_type": "code",
   "execution_count": 16,
   "id": "f9af0ad7",
   "metadata": {
    "scrolled": true
   },
   "outputs": [
    {
     "name": "stdout",
     "output_type": "stream",
     "text": [
      "Instance :  Contiene los nombres de las instancias de prueba\n",
      "Status [Nombre_Algoritmo] :  Indica el estado de solución del algoritmo Nombre_Algoritmo en la instancia correspondiente. El estado 0 significa que la instancia fue resuelta de manera óptima, el estado 1 significa que se pudo encontrar el makespan óptimo, pero no la solución SOC_Optima. El estado 2 significa que se encontró al menos una solución, mas no se pudo certificar su calidad y, finalmente, el estado 3 significa que no se pudo encontrar ninguna solución para la instancia.\n",
      "Cost SOC [Nombre_Algoritmo] :  Indica el mejor costo encontrado por el algoritmo Nombre_Algoritmo para cada instancia. En caso de que no se haya encontrado ninguna solución, el costo vale -1.\n",
      "Time SOC [Nombre_Algoritmo] :  Indica el tiempo de término del algoritmo Nombre_Algoritmo en cada instancia. Este tiempo será menor a 600 si la instancia fue resuelta a optimalidad. En caso contrario, el tiempo será de 600 segundos.\n",
      "                        INSTANCE  Status MtMS  Cost SOC MtMS  Time SOC MtMS  \\\n",
      "count                        260   260.000000     260.000000     260.000000   \n",
      "unique                       260          NaN            NaN            NaN   \n",
      "top     Instance-20-10-52-7_enc1          NaN            NaN            NaN   \n",
      "freq                           1          NaN            NaN            NaN   \n",
      "mean                         NaN     0.080769     636.915385      73.869769   \n",
      "std                          NaN     0.324685     265.359624     166.958135   \n",
      "min                          NaN     0.000000     244.000000       0.130000   \n",
      "25%                          NaN     0.000000     435.000000       1.190000   \n",
      "50%                          NaN     0.000000     633.500000       3.705000   \n",
      "75%                          NaN     0.000000     792.000000      23.990000   \n",
      "max                          NaN     2.000000    2212.000000     600.000000   \n",
      "\n",
      "        Status ASP Base E  Cost SOC Status ASP Base E  Time SOC ASP Base E  \\\n",
      "count          260.000000                  260.000000           260.000000   \n",
      "unique                NaN                         NaN                  NaN   \n",
      "top                   NaN                         NaN                  NaN   \n",
      "freq                  NaN                         NaN                  NaN   \n",
      "mean             0.376923                  537.807692           197.487235   \n",
      "std              0.716764                  266.172734           265.342559   \n",
      "min              0.000000                   -1.000000             0.555323   \n",
      "25%              0.000000                  363.000000             5.166739   \n",
      "50%              0.000000                  538.500000            19.219338   \n",
      "75%              1.000000                  740.750000           600.000000   \n",
      "max              3.000000                 1058.000000           600.000000   \n",
      "\n",
      "        Status Base F  Cost SOC Base F  Time SOC Base F  Status CBS  \\\n",
      "count      260.000000       260.000000       260.000000  260.000000   \n",
      "unique            NaN              NaN              NaN         NaN   \n",
      "top               NaN              NaN              NaN         NaN   \n",
      "freq              NaN              NaN              NaN         NaN   \n",
      "mean         0.019231       621.030769        29.525815    1.200000   \n",
      "std          0.205182       223.693856        72.180776    1.472528   \n",
      "min          0.000000        -1.000000         0.729802    0.000000   \n",
      "25%          0.000000       431.250000         4.688073    0.000000   \n",
      "50%          0.000000       631.000000        11.343162    0.000000   \n",
      "75%          0.000000       790.250000        27.914031    3.000000   \n",
      "max          3.000000      1058.000000       600.000000    3.000000   \n",
      "\n",
      "        Cost SOC CBS  Time SOC CBS  Status BCP  Cost SOC BCP  Time SOC BCP  \n",
      "count     260.000000    260.000000  260.000000    260.000000    260.000000  \n",
      "unique           NaN           NaN         NaN           NaN           NaN  \n",
      "top              NaN           NaN         NaN           NaN           NaN  \n",
      "freq             NaN           NaN         NaN           NaN           NaN  \n",
      "mean      287.542308    255.815734    0.150000    613.980769     44.328346  \n",
      "std       260.321486    286.604292    0.655096    228.689391    139.105063  \n",
      "min        -1.000000      0.000964    0.000000     -1.000000      0.000000  \n",
      "25%        -1.000000      0.074700    0.000000    428.000000      0.030000  \n",
      "50%       330.000000     33.855850    0.000000    623.500000      0.255000  \n",
      "75%       502.500000    600.000000    0.000000    781.750000      3.287500  \n",
      "max       871.000000    600.000000    3.000000   1058.000000    600.030000  \n"
     ]
    }
   ],
   "source": [
    "# descomentar siguiente linea para generar archivo .py\n",
    "# %%writefile l2e5.py\n",
    "import pandas as pd\n",
    "dataFrame = pd.read_csv('MAPF_Algorithms.csv', sep='\\t', decimal=',')\n",
    "\n",
    "description = {\n",
    "    \"Instance\": \"Contiene los nombres de las instancias de prueba\",\n",
    "    \"Status [Nombre_Algoritmo]\": \"Indica el estado de solución del algoritmo Nombre_Algoritmo en la instancia correspondiente. El estado 0 significa que la instancia fue resuelta de manera óptima, el estado 1 significa que se pudo encontrar el makespan óptimo, pero no la solución SOC_Optima. El estado 2 significa que se encontró al menos una solución, mas no se pudo certificar su calidad y, finalmente, el estado 3 significa que no se pudo encontrar ninguna solución para la instancia.\",\n",
    "    \"Cost SOC [Nombre_Algoritmo]\": \"Indica el mejor costo encontrado por el algoritmo Nombre_Algoritmo para cada instancia. En caso de que no se haya encontrado ninguna solución, el costo vale -1.\",\n",
    "    \"Time SOC [Nombre_Algoritmo]\":\"Indica el tiempo de término del algoritmo Nombre_Algoritmo en cada instancia. Este tiempo será menor a 600 si la instancia fue resuelta a optimalidad. En caso contrario, el tiempo será de 600 segundos.\"\n",
    "}\n",
    "\n",
    "for key, value in description.items():\n",
    " print(key, ': ', value)\n",
    "\n",
    "print(dataFrame.describe(include = 'all'))\n"
   ]
  },
  {
   "cell_type": "code",
   "execution_count": 17,
   "id": "b4d5893e",
   "metadata": {},
   "outputs": [
    {
     "data": {
      "image/png": "[encoded data removed]",
      "text/plain": [
       "<Figure size 432x288 with 1 Axes>"
      ]
     },
     "metadata": {
      "needs_background": "light"
     },
     "output_type": "display_data"
    }
   ],
   "source": [
    "# descomentar siguiente linea para generar archivo .py\n",
    "# %%writefile l2e6.py\n",
    "import matplotlib.pyplot as plt\n",
    "import numpy as np\n",
    "\n",
    "import pandas as pd\n",
    "dataFrame = pd.read_csv('MAPF_Algorithms.csv', sep='\\t', decimal=',')\n",
    "\n",
    "def getTimeVSResolvedInstances(frame, statusField, timeField):\n",
    "    newFrame = frame.copy()[(frame[statusField] == 0)]\n",
    "    newFrame = newFrame.sort_values(timeField)\n",
    "    newFrame = newFrame.groupby([timeField]).size().reset_index(name='counts')\n",
    "    newFrame['counts'] = newFrame['counts'].cumsum()\n",
    "    return newFrame\n",
    "\n",
    "MtMS = getTimeVSResolvedInstances(dataFrame.iloc[:, [0,1,2,3]], \"Status MtMS\", \"Time SOC MtMS\")\n",
    "ASP_E = getTimeVSResolvedInstances(dataFrame.iloc[:, [0, 4, 5, 6]], \"Status ASP Base E\", \"Time SOC ASP Base E\")\n",
    "ASP_F = getTimeVSResolvedInstances(dataFrame.iloc[:, [0, 7, 8, 9]], \"Status Base F\", \"Time SOC Base F\")\n",
    "CBS = getTimeVSResolvedInstances(dataFrame.iloc[:, [0, 10, 11, 12]], \"Status CBS\", \"Time SOC CBS\")\n",
    "BCP = getTimeVSResolvedInstances(dataFrame.iloc[:, [0, 13, 14, 15]], \"Status BCP\", \"Time SOC BCP\")\n",
    "\n",
    "plt.plot(MtMS[\"Time SOC MtMS\"], MtMS[\"counts\"], label='MtMS')\n",
    "plt.plot(ASP_E[\"Time SOC ASP Base E\"], ASP_E[\"counts\"], label='ASP Base E')\n",
    "plt.plot(ASP_F[\"Time SOC Base F\"], ASP_F[\"counts\"], label='Base F')\n",
    "plt.plot(CBS[\"Time SOC CBS\"], CBS[\"counts\"], label='CBS')\n",
    "plt.plot(BCP[\"Time SOC BCP\"], BCP[\"counts\"], label='BCP')\n",
    "\n",
    "#add step size of 50\n",
    "plt.xticks(np.arange(0, 650, 50))\n",
    "\n",
    "plt.legend()\n",
    "plt.title(\"Rendimiento de testeo algoritmico\")\n",
    "plt.xlabel('Tiempo')\n",
    "plt.ylabel('Instancias Resueltas')\n",
    "plt.grid()\n",
    "plt.show()\n"
   ]
  },
  {
   "cell_type": "code",
   "execution_count": 21,
   "id": "2204e648",
   "metadata": {},
   "outputs": [
    {
     "data": {
      "text/html": [
       "<div>\n",
       "<style scoped>\n",
       "    .dataframe tbody tr th:only-of-type {\n",
       "        vertical-align: middle;\n",
       "    }\n",
       "\n",
       "    .dataframe tbody tr th {\n",
       "        vertical-align: top;\n",
       "    }\n",
       "\n",
       "    .dataframe thead th {\n",
       "        text-align: right;\n",
       "    }\n",
       "</style>\n",
       "<table border=\"1\" class=\"dataframe\">\n",
       "  <thead>\n",
       "    <tr style=\"text-align: right;\">\n",
       "      <th></th>\n",
       "      <th>Time SOC ASP Base E</th>\n",
       "      <th>counts</th>\n",
       "    </tr>\n",
       "  </thead>\n",
       "  <tbody>\n",
       "    <tr>\n",
       "      <th>0</th>\n",
       "      <td>0.555323</td>\n",
       "      <td>1</td>\n",
       "    </tr>\n",
       "    <tr>\n",
       "      <th>1</th>\n",
       "      <td>0.579550</td>\n",
       "      <td>2</td>\n",
       "    </tr>\n",
       "    <tr>\n",
       "      <th>2</th>\n",
       "      <td>0.582839</td>\n",
       "      <td>3</td>\n",
       "    </tr>\n",
       "    <tr>\n",
       "      <th>3</th>\n",
       "      <td>0.656733</td>\n",
       "      <td>4</td>\n",
       "    </tr>\n",
       "    <tr>\n",
       "      <th>4</th>\n",
       "      <td>0.960726</td>\n",
       "      <td>5</td>\n",
       "    </tr>\n",
       "    <tr>\n",
       "      <th>...</th>\n",
       "      <td>...</td>\n",
       "      <td>...</td>\n",
       "    </tr>\n",
       "    <tr>\n",
       "      <th>181</th>\n",
       "      <td>437.006353</td>\n",
       "      <td>182</td>\n",
       "    </tr>\n",
       "    <tr>\n",
       "      <th>182</th>\n",
       "      <td>437.674561</td>\n",
       "      <td>183</td>\n",
       "    </tr>\n",
       "    <tr>\n",
       "      <th>183</th>\n",
       "      <td>446.438858</td>\n",
       "      <td>184</td>\n",
       "    </tr>\n",
       "    <tr>\n",
       "      <th>184</th>\n",
       "      <td>540.029561</td>\n",
       "      <td>185</td>\n",
       "    </tr>\n",
       "    <tr>\n",
       "      <th>185</th>\n",
       "      <td>552.542197</td>\n",
       "      <td>186</td>\n",
       "    </tr>\n",
       "  </tbody>\n",
       "</table>\n",
       "<p>186 rows × 2 columns</p>\n",
       "</div>"
      ],
      "text/plain": [
       "     Time SOC ASP Base E  counts\n",
       "0               0.555323       1\n",
       "1               0.579550       2\n",
       "2               0.582839       3\n",
       "3               0.656733       4\n",
       "4               0.960726       5\n",
       "..                   ...     ...\n",
       "181           437.006353     182\n",
       "182           437.674561     183\n",
       "183           446.438858     184\n",
       "184           540.029561     185\n",
       "185           552.542197     186\n",
       "\n",
       "[186 rows x 2 columns]"
      ]
     },
     "metadata": {},
     "output_type": "display_data"
    },
    {
     "data": {
      "text/plain": [
       "Time SOC ASP Base E    float64\n",
       "counts                   int64\n",
       "dtype: object"
      ]
     },
     "execution_count": 21,
     "metadata": {},
     "output_type": "execute_result"
    }
   ],
   "source": [
    "display(ASP_E)\n",
    "ASP_E.dtypes"
   ]
  },
  {
   "cell_type": "code",
   "execution_count": null,
   "id": "1b56fbfb",
   "metadata": {},
   "outputs": [],
   "source": []
  }
 ],
 "metadata": {
  "kernelspec": {
   "display_name": "Python 3",
   "language": "python",
   "name": "python3"
  },
  "language_info": {
   "codemirror_mode": {
    "name": "ipython",
    "version": 3
   },
   "file_extension": ".py",
   "mimetype": "text/x-python",
   "name": "python",
   "nbconvert_exporter": "python",
   "pygments_lexer": "ipython3",
   "version": "3.8.8"
  }
 },
 "nbformat": 4,
 "nbformat_minor": 5
}
