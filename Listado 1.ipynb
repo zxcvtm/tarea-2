{
 "cells": [
  {
   "cell_type": "markdown",
   "id": "7f9b47b5",
   "metadata": {},
   "source": [
    "# Tarea"
   ]
  },
  {
   "cell_type": "markdown",
   "id": "ecb051d7",
   "metadata": {},
   "source": [
    "## Ejercicio 1"
   ]
  },
  {
   "cell_type": "code",
   "execution_count": 33,
   "id": "e24554a3",
   "metadata": {},
   "outputs": [],
   "source": [
    "from IPython.core.magic import register_cell_magic\n",
    "@register_cell_magic\n",
    "def runAndSave(line, cell):\n",
    "    'Run and save python code block to a file'\n",
    "    with open(line, 'wt') as fd:\n",
    "        fd.write(cell)\n",
    "    code = compile(cell, line, 'exec')\n",
    "    exec(code, globals())"
   ]
  },
  {
   "cell_type": "code",
   "execution_count": 34,
   "id": "339621d2",
   "metadata": {},
   "outputs": [
    {
     "name": "stdout",
     "output_type": "stream",
     "text": [
      "Overwriting exercise-1.py\n"
     ]
    }
   ],
   "source": [
    "%%writefile exercise-1.py\n",
    "initialData = input().split(\" \")\n",
    "n, a , b = [int(element) for element in initialData]\n",
    "print(a*b*2*n)"
   ]
  },
  {
   "cell_type": "markdown",
   "id": "589f895d",
   "metadata": {},
   "source": [
    "## Ejercicio 2"
   ]
  },
  {
   "cell_type": "code",
   "execution_count": 35,
   "id": "bad23b21",
   "metadata": {},
   "outputs": [
    {
     "name": "stdout",
     "output_type": "stream",
     "text": [
      "Overwriting exercise-2.py\n"
     ]
    }
   ],
   "source": [
    "%%writefile exercise-2.py\n",
    "number = int(input())\n",
    "limits = [1,5,10,20,50,100,250,500,1000]\n",
    "words = [\"few\",\"several\",\"pack\",\"lots\",\"horde\",\"throng\",\"swarm\", \"zounds\", \"legion\"]\n",
    "traduction = \"few\"\n",
    "for index, limit in enumerate(limits):\n",
    "    if(number >= limit):\n",
    "        traduction = words[index]\n",
    "print(traduction)"
   ]
  },
  {
   "cell_type": "markdown",
   "id": "f9406797",
   "metadata": {},
   "source": [
    "## Ejercicio 3"
   ]
  },
  {
   "cell_type": "code",
   "execution_count": 36,
   "id": "aa8c3e45",
   "metadata": {},
   "outputs": [
    {
     "name": "stdout",
     "output_type": "stream",
     "text": [
      "Overwriting exercise-3.py\n"
     ]
    }
   ],
   "source": [
    "%%writefile exercise-3.py\n",
    "firstCombinationIsOdd = int(input())%2 == 1\n",
    "secondCombinationIsOdd = int(input())%2 == 1\n",
    "\n",
    "if(firstCombinationIsOdd and not secondCombinationIsOdd):\n",
    "    print(\"no\")\n",
    "else:\n",
    "    print(\"yes\")"
   ]
  },
  {
   "cell_type": "markdown",
   "id": "ce87d29d",
   "metadata": {},
   "source": [
    "## Ejercicio 4"
   ]
  },
  {
   "cell_type": "code",
   "execution_count": 37,
   "id": "e0b81cc1",
   "metadata": {},
   "outputs": [
    {
     "name": "stdout",
     "output_type": "stream",
     "text": [
      "Overwriting exercise-4.py\n"
     ]
    }
   ],
   "source": [
    "%%writefile exercise-4.py\n",
    "n,k = list(map(int, (input().split())))\n",
    "if 2*n<=k:\n",
    "    print(2)\n",
    "elif (2*n%k>=1):\n",
    "    print(int(2*n/k)+1)\n",
    "else:\n",
    "    print(int(2*n/k))"
   ]
  },
  {
   "cell_type": "markdown",
   "id": "b1b2d519",
   "metadata": {},
   "source": [
    "## Ejercicio 5"
   ]
  },
  {
   "cell_type": "code",
   "execution_count": 38,
   "id": "8ba0fba2",
   "metadata": {},
   "outputs": [
    {
     "name": "stdout",
     "output_type": "stream",
     "text": [
      "Overwriting exercise-5.py\n"
     ]
    }
   ],
   "source": [
    "%%writefile exercise-5.py\n",
    "cardsAndMinutes = input().split(\" \")\n",
    "carsArrivedByMinute = input().split(\" \")\n",
    "\n",
    "k, n = [int(element) for element in cardsAndMinutes]\n",
    "carsByMinute = [int(car) for car in carsArrivedByMinute]\n",
    "carsInQueue = 0\n",
    "\n",
    "for i, cars in enumerate(carsByMinute):\n",
    "    if(i >= n):\n",
    "        break\n",
    "    if (carsInQueue + cars - k) > 0:\n",
    "        carsInQueue = carsInQueue + cars - k\n",
    "    else:\n",
    "        carsInQueue = 0\n",
    "print(carsInQueue)"
   ]
  },
  {
   "cell_type": "markdown",
   "id": "8fb1bed6",
   "metadata": {},
   "source": [
    "## Ejercicio 6"
   ]
  },
  {
   "cell_type": "code",
   "execution_count": 39,
   "id": "cf1071ab",
   "metadata": {},
   "outputs": [
    {
     "name": "stdout",
     "output_type": "stream",
     "text": [
      "Overwriting exercise-6.py\n"
     ]
    }
   ],
   "source": [
    "%%writefile exercise-6.py\n",
    "sections = int(input())\n",
    "sectionPower = list(map(int, (input().split())))\n",
    "ind = 0\n",
    "MAX = sum(sectionPower[:2])\n",
    "for i in range(sections - 2):\n",
    "    if  sum(sectionPower[i:i+3]) > MAX:\n",
    "        MAX = sum(sectionPower[i:i+3])\n",
    "        ind = sectionPower.index(sectionPower[i]) + 2\n",
    "\n",
    "print(MAX, ind)"
   ]
  },
  {
   "cell_type": "markdown",
   "id": "f8cee756",
   "metadata": {},
   "source": [
    "## Ejercicio 7"
   ]
  },
  {
   "cell_type": "code",
   "execution_count": 40,
   "id": "ab234b59",
   "metadata": {},
   "outputs": [
    {
     "name": "stdout",
     "output_type": "stream",
     "text": [
      "Overwriting exercise-7.py\n"
     ]
    }
   ],
   "source": [
    "%%writefile exercise-7.py\n",
    "input()\n",
    "block1 = set(map(int, (input().split())))\n",
    "input()\n",
    "block2 = set(map(int, (input().split())))\n",
    "input()\n",
    "block3 = set(map(int, (input().split())))\n",
    "\n",
    "print(len(block1.intersection(block2).intersection(block3)))"
   ]
  },
  {
   "cell_type": "markdown",
   "id": "62bed918",
   "metadata": {},
   "source": [
    "## Ejercicio 8"
   ]
  },
  {
   "cell_type": "code",
   "execution_count": 41,
   "id": "f89460f7",
   "metadata": {},
   "outputs": [
    {
     "name": "stdout",
     "output_type": "stream",
     "text": [
      "Overwriting exercise-8.py\n"
     ]
    }
   ],
   "source": [
    "%%writefile exercise-8.py\n",
    "guestsResponse = int(input())\n",
    "total = 2\n",
    "for i in range(guestsResponse):\n",
    "    total = total + len(input().split(\"+\"))\n",
    "if(total == 13):\n",
    "    total = total + 1\n",
    "print(total*100)"
   ]
  },
  {
   "cell_type": "markdown",
   "id": "7288c491",
   "metadata": {},
   "source": [
    "## Ejercicio 9"
   ]
  },
  {
   "cell_type": "code",
   "execution_count": 42,
   "id": "07237c49",
   "metadata": {},
   "outputs": [
    {
     "name": "stdout",
     "output_type": "stream",
     "text": [
      "Overwriting exercise-9.py\n"
     ]
    }
   ],
   "source": [
    "%%writefile exercise-9.py\n",
    "nTeamsResponses = int(input())\n",
    "teamsResponses = list()\n",
    "for i in range(nTeamsResponses):\n",
    "    t = input()\n",
    "    teamsResponses.append(t)\n",
    "teams = set(teamsResponses)\n",
    "for team in teams:\n",
    "    if teamsResponses.count(team) > 1:\n",
    "        print(team)"
   ]
  },
  {
   "cell_type": "markdown",
   "id": "9b1ff290",
   "metadata": {},
   "source": [
    "## Ejercicio 10"
   ]
  },
  {
   "cell_type": "code",
   "execution_count": 43,
   "id": "504ba653",
   "metadata": {},
   "outputs": [
    {
     "name": "stdout",
     "output_type": "stream",
     "text": [
      "Overwriting exercise-10.py\n"
     ]
    }
   ],
   "source": [
    "%%writefile exercise-10.py\n",
    "size = int(input())\n",
    "files = []\n",
    "for i in range(size):\n",
    "    file = list(map(int, (input().split())))\n",
    "    file.reverse()\n",
    "    files.append(file)\n",
    "\n",
    "order = []\n",
    "selectedFile = 0\n",
    "for i in range(size*size):\n",
    "    order.append(str(files[selectedFile].pop()))\n",
    "    selectedFile = selectedFile - 1\n",
    "    if(selectedFile < 0 or (len(files[selectedFile]) == 0)):\n",
    "        filesLength = list(map(len, files))\n",
    "        selectedFile = filesLength.index(max(filesLength))\n",
    "\n",
    "print(\" \".join(order))\n",
    "    \n",
    "    "
   ]
  },
  {
   "cell_type": "code",
   "execution_count": 10,
   "id": "62bf3ff6",
   "metadata": {},
   "outputs": [
    {
     "name": "stdout",
     "output_type": "stream",
     "text": [
      "2\n",
      "1\n"
     ]
    }
   ],
   "source": [
    "variable = 1\n",
    "def funcion():\n",
    "    variable = 2\n",
    "    print(variable)\n",
    "funcion()\n",
    "print(variable)"
   ]
  }
 ],
 "metadata": {
  "kernelspec": {
   "display_name": "Python 3",
   "language": "python",
   "name": "python3"
  },
  "language_info": {
   "codemirror_mode": {
    "name": "ipython",
    "version": 3
   },
   "file_extension": ".py",
   "mimetype": "text/x-python",
   "name": "python",
   "nbconvert_exporter": "python",
   "pygments_lexer": "ipython3",
   "version": "3.8.8"
  }
 },
 "nbformat": 4,
 "nbformat_minor": 5
}
